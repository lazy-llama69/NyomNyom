{
  "cells": [
    {
      "cell_type": "code",
      "execution_count": 8,
      "metadata": {
        "id": "ub__WW8WS6lv"
      },
      "outputs": [],
      "source": [
        "def food_recommendation(Food_Name):\n",
        "    n = 10\n",
        "    FoodList = food[food['Name'].str.contains(Food_Name)]  \n",
        "    if len(FoodList):        \n",
        "        Foodi= FoodList.iloc[0]['Food_ID']\n",
        "        Foodi = dataset[dataset['Food_ID'] == Foodi].index[0]\n",
        "        distances , indices = model.kneighbors(csr_dataset[Foodi],n_neighbors=n+1)    \n",
        "        Food_indices = sorted(list(zip(indices.squeeze().tolist(),distances.squeeze().tolist())),key=lambda x: x[1])[:0:-1]\n",
        "        Recommendations = []\n",
        "        for val in Food_indices:\n",
        "            Foodi = dataset.iloc[val[0]]['Food_ID']\n",
        "            i = food[food['Food_ID'] == Foodi].index\n",
        "            Recommendations.append({'Name':food.iloc[i]['Name'].values[0],'Distance':val[1]})\n",
        "        df = pd.DataFrame(Recommendations,index=range(1,n+1))\n",
        "        return df['Name']\n",
        "    else:\n",
        "        return \"No Similar Foods.\""
      ]
    },
    {
      "cell_type": "code",
      "execution_count": 9,
      "metadata": {
        "id": "ptKWvfyE0OGE"
      },
      "outputs": [
        {
          "ename": "NameError",
          "evalue": "name 'food' is not defined",
          "output_type": "error",
          "traceback": [
            "\u001b[0;31m---------------------------------------------------------------------------\u001b[0m",
            "\u001b[0;31mNameError\u001b[0m                                 Traceback (most recent call last)",
            "Cell \u001b[0;32mIn[9], line 1\u001b[0m\n\u001b[0;32m----> 1\u001b[0m \u001b[43mfood_recommendation\u001b[49m\u001b[43m(\u001b[49m\u001b[38;5;124;43m'\u001b[39;49m\u001b[38;5;124;43msummer squash salad\u001b[39;49m\u001b[38;5;124;43m'\u001b[39;49m\u001b[43m)\u001b[49m\n",
            "Cell \u001b[0;32mIn[8], line 3\u001b[0m, in \u001b[0;36mfood_recommendation\u001b[0;34m(Food_Name)\u001b[0m\n\u001b[1;32m      1\u001b[0m \u001b[38;5;28;01mdef\u001b[39;00m \u001b[38;5;21mfood_recommendation\u001b[39m(Food_Name):\n\u001b[1;32m      2\u001b[0m     n \u001b[38;5;241m=\u001b[39m \u001b[38;5;241m10\u001b[39m\n\u001b[0;32m----> 3\u001b[0m     FoodList \u001b[38;5;241m=\u001b[39m \u001b[43mfood\u001b[49m[food[\u001b[38;5;124m'\u001b[39m\u001b[38;5;124mName\u001b[39m\u001b[38;5;124m'\u001b[39m]\u001b[38;5;241m.\u001b[39mstr\u001b[38;5;241m.\u001b[39mcontains(Food_Name)]  \n\u001b[1;32m      4\u001b[0m     \u001b[38;5;28;01mif\u001b[39;00m \u001b[38;5;28mlen\u001b[39m(FoodList):        \n\u001b[1;32m      5\u001b[0m         Foodi\u001b[38;5;241m=\u001b[39m FoodList\u001b[38;5;241m.\u001b[39miloc[\u001b[38;5;241m0\u001b[39m][\u001b[38;5;124m'\u001b[39m\u001b[38;5;124mFood_ID\u001b[39m\u001b[38;5;124m'\u001b[39m]\n",
            "\u001b[0;31mNameError\u001b[0m: name 'food' is not defined"
          ]
        }
      ],
      "source": [
        "food_recommendation('summer squash salad')"
      ]
    },
    {
      "cell_type": "code",
      "execution_count": 5,
      "metadata": {},
      "outputs": [],
      "source": [
        "import pandas as pd\n",
        "from sklearn.feature_extraction.text import TfidfVectorizer\n",
        "from sklearn.metrics.pairwise import cosine_similarity\n",
        "\n",
        "def food_recommendation(food, food_title, top_n=5):\n",
        "\n",
        "    # Drop rows with any NaN values\n",
        "    food.dropna(inplace=True)\n",
        "\n",
        "    # Combine features into a single string\n",
        "    food['combined_features'] = food['Title'] + \" \" + food['Ingredients']\n",
        "\n",
        "    # Create TF-IDF matrix\n",
        "    tfidf = TfidfVectorizer(stop_words='english')\n",
        "    tfidf_matrix = tfidf.fit_transform(food['combined_features'])\n",
        "\n",
        "    # Compute cosine similarity matrix\n",
        "    cosine_sim = cosine_similarity(tfidf_matrix, tfidf_matrix)\n",
        "\n",
        "    # Get the index of the food item that matches the given title\n",
        "    food_index = food[food['Title'] == food_title].index\n",
        "\n",
        "    if food_index.empty:\n",
        "        print(f\"No food item found with the title: {food_title}\")\n",
        "        return pd.Series(dtype=str)\n",
        "\n",
        "   # Get similarity scores for all foods with that item\n",
        "    similarity_scores = list(enumerate(cosine_sim[food_index[0]]))\n",
        "\n",
        "    # Sort foods by similarity score\n",
        "    similarity_scores = sorted(similarity_scores, key=lambda x: x[1], reverse=True)\n",
        "\n",
        "    # Get top N most similar food indices, excluding the first item (itself)\n",
        "    top_food_indices = [i[0] for i in similarity_scores if i[0] != food_index[0]][:top_n]\n",
        "\n",
        "    # Return the recommended food titles\n",
        "    recommendations = food['Title'].iloc[top_food_indices]\n",
        "    return recommendations"
      ]
    },
    {
      "cell_type": "code",
      "execution_count": 7,
      "metadata": {},
      "outputs": [
        {
          "ename": "NameError",
          "evalue": "name 'food' is not defined",
          "output_type": "error",
          "traceback": [
            "\u001b[0;31m---------------------------------------------------------------------------\u001b[0m",
            "\u001b[0;31mNameError\u001b[0m                                 Traceback (most recent call last)",
            "Cell \u001b[0;32mIn[7], line 1\u001b[0m\n\u001b[0;32m----> 1\u001b[0m recommendations \u001b[38;5;241m=\u001b[39m food_recommendation(\u001b[43mfood\u001b[49m, \u001b[38;5;124m'\u001b[39m\u001b[38;5;124mShrimp Creole\u001b[39m\u001b[38;5;124m'\u001b[39m, top_n\u001b[38;5;241m=\u001b[39m\u001b[38;5;241m5\u001b[39m)\n\u001b[1;32m      2\u001b[0m \u001b[38;5;28mprint\u001b[39m(recommendations)\n",
            "\u001b[0;31mNameError\u001b[0m: name 'food' is not defined"
          ]
        }
      ],
      "source": [
        "\n",
        "recommendations = food_recommendation(df, 'Shrimp Creole', top_n=5)\n",
        "print(recommendations[1:6])"
      ]
    }
  ],
  "metadata": {
    "colab": {
      "name": "cbfunction.ipynb",
      "provenance": []
    },
    "kernelspec": {
      "display_name": "Python 3",
      "name": "python3"
    },
    "language_info": {
      "codemirror_mode": {
        "name": "ipython",
        "version": 3
      },
      "file_extension": ".py",
      "mimetype": "text/x-python",
      "name": "python",
      "nbconvert_exporter": "python",
      "pygments_lexer": "ipython3",
      "version": "3.12.4"
    }
  },
  "nbformat": 4,
  "nbformat_minor": 0
}
